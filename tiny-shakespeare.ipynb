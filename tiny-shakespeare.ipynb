{
 "cells": [
  {
   "cell_type": "code",
   "execution_count": 1,
   "id": "973fe611",
   "metadata": {},
   "outputs": [],
   "source": [
    "import torch\n",
    "import torch.nn.functional as F\n",
    "import matplotlib.pyplot as plt\n",
    "%matplotlib inline"
   ]
  },
  {
   "cell_type": "code",
   "execution_count": 168,
   "id": "174a3c2e",
   "metadata": {},
   "outputs": [],
   "source": [
    "text = open('input.txt', 'r').read()\n",
    "\n",
    "# build vocab\n",
    "tokens = sorted(list(set(''.join(text))))\n",
    "# let's assume '#' is my delimiter (start, end) token\n",
    "\n",
    "# we need to embed these tokens into some numbers\n",
    "stoi = {x: i + 1 for i, x in enumerate(tokens)}\n",
    "stoi['#'] = 0\n",
    "itos = {i: x for x, i in stoi.items()}\n",
    "vocab_size = len(itos)\n",
    "\n",
    "# character level tokenizer\n",
    "# TODO: try sub-word tokenizer\n",
    "encode = lambda s: [stoi[c] for c in s] # string -> vector\n",
    "decode = lambda x: ''.join([itos[i] for i in x]) # vector -> string"
   ]
  },
  {
   "cell_type": "code",
   "execution_count": 68,
   "id": "4a482e46",
   "metadata": {},
   "outputs": [
    {
     "name": "stdout",
     "output_type": "stream",
     "text": [
      "torch.Size([1115394]) torch.int64\n",
      "tensor([19, 48, 57, 58, 59,  2, 16, 48, 59, 48, 65, 44, 53, 11,  1, 15, 44, 45,\n",
      "        54, 57, 44,  2, 62, 44,  2, 55, 57, 54, 42, 44, 44, 43,  2, 40, 53, 64,\n",
      "         2, 45, 60, 57, 59, 47, 44, 57,  7,  2, 47, 44, 40, 57,  2, 52, 44,  2,\n",
      "        58, 55, 44, 40, 50,  9,  1,  1, 14, 51, 51, 11,  1, 32, 55, 44, 40, 50,\n",
      "         7,  2, 58, 55, 44, 40, 50,  9,  1,  1, 19, 48, 57, 58, 59,  2, 16, 48,\n",
      "        59, 48, 65, 44, 53, 11,  1, 38, 54, 60])\n"
     ]
    }
   ],
   "source": [
    "# encode the dataset\n",
    "data = torch.tensor(encode(text), dtype=torch.long)\n",
    "print(data.shape, data.dtype)\n",
    "print(data[:100])"
   ]
  },
  {
   "cell_type": "code",
   "execution_count": 71,
   "id": "f6b8dd73",
   "metadata": {},
   "outputs": [
    {
     "name": "stdout",
     "output_type": "stream",
     "text": [
      "torch.Size([1003854])\n",
      "torch.Size([111540])\n"
     ]
    }
   ],
   "source": [
    "# build the dataset\n",
    "n = int(0.9 * len(data))\n",
    "d_train = data[:n]\n",
    "d_val = data[n:]\n",
    "\n",
    "print(d_train.shape)\n",
    "print(d_val.shape)"
   ]
  },
  {
   "cell_type": "code",
   "execution_count": 72,
   "id": "2f0cdac4",
   "metadata": {},
   "outputs": [
    {
     "data": {
      "text/plain": [
       "tensor([19, 48, 57, 58, 59,  2, 16, 48, 59])"
      ]
     },
     "execution_count": 72,
     "metadata": {},
     "output_type": "execute_result"
    }
   ],
   "source": [
    "block_size = 8\n",
    "d_train[:block_size + 1]"
   ]
  },
  {
   "cell_type": "code",
   "execution_count": 74,
   "id": "29827c76",
   "metadata": {},
   "outputs": [
    {
     "name": "stdout",
     "output_type": "stream",
     "text": [
      "input = tensor([19]), output = 48\n",
      "input = tensor([19, 48]), output = 57\n",
      "input = tensor([19, 48, 57]), output = 58\n",
      "input = tensor([19, 48, 57, 58]), output = 59\n",
      "input = tensor([19, 48, 57, 58, 59]), output = 2\n",
      "input = tensor([19, 48, 57, 58, 59,  2]), output = 16\n",
      "input = tensor([19, 48, 57, 58, 59,  2, 16]), output = 48\n",
      "input = tensor([19, 48, 57, 58, 59,  2, 16, 48]), output = 59\n"
     ]
    }
   ],
   "source": [
    "x = d_train[:block_size]\n",
    "y = d_train[1:block_size + 1]\n",
    "for t in range(block_size):\n",
    "    ctx = x[:t+1]\n",
    "    target = y[t]\n",
    "    print(f\"input = {ctx}, output = {target}\")"
   ]
  },
  {
   "cell_type": "code",
   "execution_count": 170,
   "id": "bb7bf7dd",
   "metadata": {},
   "outputs": [],
   "source": [
    "# usable datasets, batches basically\n",
    "torch.manual_seed(1332) # for reproducibility\n",
    "batch_size = 32 # independent sequences fed in one pass\n",
    "block_size = 8 # context length\n",
    "\n",
    "def get_batch(split):\n",
    "    # gen batch of random x and y\n",
    "    data = d_train if split == 'train' else d_val\n",
    "    ix = torch.randint(len(data) - block_size, (batch_size, ))\n",
    "    x = torch.stack([data[i : i + block_size] for i in ix])\n",
    "    y = torch.stack([data[i + 1 : i + block_size + 1] for i in ix])\n",
    "    return x, y\n",
    "\n",
    "xb, yb = get_batch('train')"
   ]
  },
  {
   "cell_type": "code",
   "execution_count": 171,
   "id": "5ab4d47c",
   "metadata": {},
   "outputs": [],
   "source": [
    "# simple bigram\n",
    "import torch.nn as nn\n",
    "\n",
    "class BigramLLM(nn.Module):\n",
    "    def __init__(self, vocab_size):\n",
    "        super().__init__()\n",
    "        # each token reads logits for the next token from lookup table\n",
    "        self.token_emb_table = nn.Embedding(vocab_size, vocab_size)\n",
    "        \n",
    "    def forward(self, idx, targets=None):\n",
    "        # idx and targets are (B, T)\n",
    "        # B -> batch dim\n",
    "        # T -> time dim -> ctx\n",
    "        # after embedding them, each idx[i, j] will be have emb dim\n",
    "        # it'll become (B, T, C) -> C is emb dim\n",
    "        logits = self.token_emb_table(idx)\n",
    "        if targets == None:\n",
    "            loss = None\n",
    "        else:\n",
    "            B, T, C = logits.shape\n",
    "            logits = logits.view(B * T, C)\n",
    "            targets = targets.view(B * T)\n",
    "            # -ve log liklihood loss\n",
    "            # cross_entropy in pytorch\n",
    "            loss = F.cross_entropy(logits, targets)\n",
    "        return logits, loss\n",
    "    \n",
    "    def generate(self, idx, max_new_tokens):\n",
    "        # idx is (B, T) array of current ctx indices\n",
    "        for _ in range(max_new_tokens):\n",
    "            # predictions\n",
    "            logits, loss = self(idx)\n",
    "            # focus on latest time step\n",
    "            logits = logits[:, -1, :] # pick latest T from (B, T, C) -> becomes (B, C)\n",
    "            # softmax\n",
    "            probs = F.softmax(logits, dim=-1) # (B, C)\n",
    "            # sample from probabilities\n",
    "            idx_next = torch.multinomial(probs, num_samples=1) # (B, 1)\n",
    "            # add to running index\n",
    "            idx = torch.cat((idx, idx_next), dim=1) # (B, T+1)\n",
    "        return idx\n",
    "\n",
    "m = BigramLLM(vocab_size)"
   ]
  },
  {
   "cell_type": "code",
   "execution_count": 173,
   "id": "b9c04993",
   "metadata": {},
   "outputs": [],
   "source": [
    "# pytorch optimizer\n",
    "optimizer = torch.optim.AdamW(m.parameters(), lr=1e-3)"
   ]
  },
  {
   "cell_type": "code",
   "execution_count": 181,
   "id": "0a515bf3",
   "metadata": {},
   "outputs": [
    {
     "name": "stdout",
     "output_type": "stream",
     "text": [
      "2.373624801635742\n"
     ]
    }
   ],
   "source": [
    "batch_size = 32\n",
    "for steps in range(10000):\n",
    "    xb, yb = get_batch('train')\n",
    "    \n",
    "    # eval loss\n",
    "    logits, loss = m(xb, yb)\n",
    "    optimizer.zero_grad(set_to_none=True)\n",
    "    loss.backward()\n",
    "    optimizer.step()\n",
    "    \n",
    "print(loss.item())"
   ]
  },
  {
   "cell_type": "code",
   "execution_count": 184,
   "id": "ec35a4cf",
   "metadata": {},
   "outputs": [
    {
     "name": "stdout",
     "output_type": "stream",
     "text": [
      "#!\n",
      "Gongo wicowerel-f t helby ES:\n",
      "Tor, f an mawithitcthease, her e wererery s t y IUR CAl wanakikely ds buret Whethead s ht I at bures iengrto he isthe otarid bu asplo ormecotenol, alidderhie de.\n",
      "\n",
      "Courearechegr cores atitowarthit\n",
      "\n",
      "OT:\n",
      "ICELel, m s y tedas thu y yimete,-prd E t e, O iss?\n",
      "ONRLIs, culmest beest, thin VOr aro tnondourth'dinsike heanent rego ses, hea te?\n",
      "\n",
      "Y:\n",
      "\n",
      "My ter.\n",
      "And tcameshacerstyortot?\n",
      "SThay loucherestooims ou aratr\n",
      "Qundo shichat-szent thoolsenkeanisulengrgrs harangsar hom.\n",
      "Preno\n",
      "Wid ht har, he, moono o thelin, s mee.\n",
      "\n",
      "IZTheand;\n",
      "Y m t.\n",
      "I t g t US: there n.\n",
      "USefend s, oow ssthesther foouns annd, wer.\n",
      "TIIXIV:\n",
      "\n",
      "\n",
      "he t we we RENEDu baineethue t l; e.\n",
      "Gowouou, Mar, meese d myorncthel ifrm; m ss:\n",
      "Andelitasthas hintlf heno atouatlit ifurere s y?\n",
      "GULOMitilyomas:\n",
      "TUCENEENGojo, a n fou can ishome VEYofof\n",
      "\n",
      "QUCES:\n",
      "ABo ge INote.\n",
      "ONor? itchifod GUn s prenews s, nd w brusargat mm, se, BOL.\n",
      "\n",
      "I it!\n",
      "ABe shige inghilicar ce tome lltof\n",
      "PSoe bred fo, p e.\n",
      "pider ouran:\n",
      "CEOfe hindeamy het, chis\n"
     ]
    }
   ],
   "source": [
    "print(decode(m.generate(torch.zeros((1, 1), dtype=torch.long), 1000)[0].tolist()))"
   ]
  },
  {
   "cell_type": "markdown",
   "id": "f87f8b7d",
   "metadata": {},
   "source": [
    "## Mathematical trick in self-attention"
   ]
  },
  {
   "cell_type": "code",
   "execution_count": null,
   "id": "f0c7f6ba",
   "metadata": {},
   "outputs": [],
   "source": []
  }
 ],
 "metadata": {
  "kernelspec": {
   "display_name": "Python 3 (ipykernel)",
   "language": "python",
   "name": "python3"
  },
  "language_info": {
   "codemirror_mode": {
    "name": "ipython",
    "version": 3
   },
   "file_extension": ".py",
   "mimetype": "text/x-python",
   "name": "python",
   "nbconvert_exporter": "python",
   "pygments_lexer": "ipython3",
   "version": "3.11.3"
  }
 },
 "nbformat": 4,
 "nbformat_minor": 5
}
